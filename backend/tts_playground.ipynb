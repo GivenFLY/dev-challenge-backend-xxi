{
 "cells": [
  {
   "cell_type": "markdown",
   "source": [
    "# Text To Speech Playground\n",
    "This playground is used for manual testing the TTS Service\n",
    "\n",
    "### Constants"
   ],
   "metadata": {
    "collapsed": false
   },
   "id": "d606612f9b5db308"
  },
  {
   "cell_type": "code",
   "execution_count": 1,
   "id": "initial_id",
   "metadata": {
    "collapsed": true,
    "ExecuteTime": {
     "end_time": "2024-09-29T06:18:16.057712600Z",
     "start_time": "2024-09-29T06:18:16.052277900Z"
    }
   },
   "outputs": [],
   "source": [
    "SPEECH_TO_TEXT_API = 'http://localhost:8001/transcribe'"
   ]
  },
  {
   "cell_type": "code",
   "outputs": [],
   "source": [
    "import time\n",
    "import random\n",
    "import string\n",
    "\n",
    "import requests"
   ],
   "metadata": {
    "collapsed": false,
    "ExecuteTime": {
     "end_time": "2024-09-29T06:18:16.484938500Z",
     "start_time": "2024-09-29T06:18:16.057712600Z"
    }
   },
   "id": "b272f97a71b25a45",
   "execution_count": 2
  },
  {
   "cell_type": "markdown",
   "source": [
    "### Functions"
   ],
   "metadata": {
    "collapsed": false
   },
   "id": "f042acdb1d80a682"
  },
  {
   "cell_type": "code",
   "outputs": [],
   "source": [
    "def make_request(call_id, audio_path):\n",
    "    return requests.post(SPEECH_TO_TEXT_API, params={\"call_id\": call_id, \"audio_path\": audio_path})\n",
    "\n",
    "base_call = lambda prefix=\"\": make_request(prefix + \"base_call\", \"/shared/media/audio/transcription_to_analyse.mp3\")\n",
    "one_hour_call = lambda prefix=\"\": make_request(prefix + \"one_hour_call\", \"/shared/media/audio/one_hour_test.mp3\")\n",
    "two_hours_call = lambda prefix=\"\": make_request(prefix + \"two_hours_call\", \"/shared/media/audio/two_hours_test.mp3\")"
   ],
   "metadata": {
    "collapsed": false,
    "ExecuteTime": {
     "end_time": "2024-09-29T06:18:17.291861200Z",
     "start_time": "2024-09-29T06:18:17.283753600Z"
    }
   },
   "id": "814e96ba0b0c4d2c",
   "execution_count": 3
  },
  {
   "cell_type": "code",
   "outputs": [],
   "source": [
    "def show_execution_time(method, *args, **kwargs):\n",
    "    start = time.time()\n",
    "    result = method(*args, **kwargs)\n",
    "    print(f\"Execution time: {time.time() - start}\")\n",
    "    return result"
   ],
   "metadata": {
    "collapsed": false,
    "ExecuteTime": {
     "end_time": "2024-09-29T06:18:17.298158500Z",
     "start_time": "2024-09-29T06:18:17.288863100Z"
    }
   },
   "id": "61553ab6972f14f6",
   "execution_count": 4
  },
  {
   "cell_type": "code",
   "outputs": [],
   "source": [
    "def random_string(length=10):\n",
    "    return ''.join(random.choices(string.ascii_uppercase + string.digits, k=length))"
   ],
   "metadata": {
    "collapsed": false,
    "ExecuteTime": {
     "end_time": "2024-09-29T06:18:17.310100700Z",
     "start_time": "2024-09-29T06:18:17.296024Z"
    }
   },
   "id": "d553f4fdb19850e4",
   "execution_count": 5
  },
  {
   "cell_type": "markdown",
   "source": [
    "### Manual Tests"
   ],
   "metadata": {
    "collapsed": false
   },
   "id": "3cddc8c5c3c3a38e"
  },
  {
   "cell_type": "code",
   "outputs": [
    {
     "name": "stdout",
     "output_type": "stream",
     "text": [
      "Execution time: 0.08361554145812988\n",
      "200\n",
      "{'message': 'Transcription job submitted.'}\n"
     ]
    }
   ],
   "source": [
    "request = show_execution_time(base_call, random_string())\n",
    "print(request.status_code)\n",
    "print(request.json())"
   ],
   "metadata": {
    "collapsed": false,
    "ExecuteTime": {
     "end_time": "2024-09-29T01:20:03.269466200Z",
     "start_time": "2024-09-29T01:20:03.181491Z"
    }
   },
   "id": "9beb9fc61c2b5491",
   "execution_count": 6
  },
  {
   "cell_type": "code",
   "outputs": [],
   "source": [
    "request = one_hour_call()\n",
    "print(request.status_code)\n",
    "print(request.json())"
   ],
   "metadata": {
    "collapsed": false
   },
   "id": "c01d8337b154d755"
  },
  {
   "cell_type": "code",
   "outputs": [
    {
     "name": "stdout",
     "output_type": "stream",
     "text": [
      "200\n",
      "{'message': 'Transcription job submitted.'}\n"
     ]
    }
   ],
   "source": [
    "request = two_hours_call()\n",
    "print(request.status_code)\n",
    "print(request.json())"
   ],
   "metadata": {
    "collapsed": false,
    "ExecuteTime": {
     "end_time": "2024-09-29T06:18:32.574536800Z",
     "start_time": "2024-09-29T06:18:32.489286100Z"
    }
   },
   "id": "9a8e72cf2d7bf1ea",
   "execution_count": 6
  },
  {
   "cell_type": "code",
   "outputs": [],
   "source": [],
   "metadata": {
    "collapsed": false
   },
   "id": "4b34b749ab0234e2"
  }
 ],
 "metadata": {
  "kernelspec": {
   "display_name": "Python 3",
   "language": "python",
   "name": "python3"
  },
  "language_info": {
   "codemirror_mode": {
    "name": "ipython",
    "version": 2
   },
   "file_extension": ".py",
   "mimetype": "text/x-python",
   "name": "python",
   "nbconvert_exporter": "python",
   "pygments_lexer": "ipython2",
   "version": "2.7.6"
  }
 },
 "nbformat": 4,
 "nbformat_minor": 5
}
