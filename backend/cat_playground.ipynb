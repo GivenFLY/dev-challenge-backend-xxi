{
 "cells": [
  {
   "cell_type": "markdown",
   "source": [
    "# Categorization Playground\n",
    "This playground is used for manual testing the categorization Service\n",
    "\n",
    "### Constants"
   ],
   "metadata": {
    "collapsed": false
   },
   "id": "d606612f9b5db308"
  },
  {
   "cell_type": "code",
   "execution_count": 32,
   "id": "initial_id",
   "metadata": {
    "collapsed": true,
    "ExecuteTime": {
     "end_time": "2024-09-29T07:29:57.172784500Z",
     "start_time": "2024-09-29T07:29:57.169054400Z"
    }
   },
   "outputs": [],
   "source": [
    "CATEGORIZATION_API_CLASSIFY = 'http://localhost:8002/classify'\n",
    "CATEGORIZATION_API_QA = 'http://localhost:8002/qa'\n",
    "TRANSCRIPTION_PATH = \"/shared/media/calls/base_call.txt\"\n",
    "CATEGORIES = [\n",
    "    {\n",
    "        \"title\": \"Visa and Passport Services\",\n",
    "        \"points\": [\"Visa application procedures\", \"Passport renewal\", \"Required documents for applications\", \"Document processing times\", \"Visa fees and payments\", \"Availability of expedited processing\"]\n",
    "    },\n",
    "    {\n",
    "        \"title\": \"Diplomatic Inquiries\",\n",
    "        \"points\": [\"Political issues between countries\", \"Diplomatic exchanges\", \"International agreements and treaties\", \"Resolution of international conflicts\", \"Cooperation in the field of security\"]\n",
    "    },\n",
    "    {\n",
    "        \"title\": \"Travel Advisories\",\n",
    "        \"points\": [\"Security warnings for destination countries\", \"Information on natural disasters\", \"Updates on epidemic situations\", \"Health and vaccination recommendations\", \"Local laws and customs guidelines\"]\n",
    "    },\n",
    "    {\n",
    "        \"title\": \"Consular Assistance\",\n",
    "        \"points\": [\"Assistance to citizens abroad\", \"Issuance of powers of attorney and documents\", \"Support in case of arrest or detention\", \"Fine remission and legal assistance\", \"Repatriation and emergency return\"]\n",
    "    },\n",
    "    {\n",
    "        \"title\": \"Trade and Economic Cooperation\",\n",
    "        \"points\": [\"Investment opportunities\", \"Trade agreements and regulations\", \"Cooperation in technology and innovation\", \"Support for small and medium enterprises\", \"Market analysis and economic trends\"]\n",
    "    }\n",
    "]\n",
    "VISA_AND_PASSPORT_SERVICES_DIALOGUE = \"\"\"I'm planning to move to Canada for work and need to understand the visa application process. Can you guide me through the necessary steps?\n",
    "Certainly! To apply for a Canadian work visa, you'll need a valid job offer from a Canadian employer, a completed application form, your current passport, proof of qualifications, and any required certificates. Additionally, you'll need to undergo a medical examination and obtain a police clearance certificate. The processing time can vary, so it's advisable to apply well in advance. You can also explore expedited processing options if available. For detailed instructions and to submit your application, please visit our official website or contact our visa support team.\"\"\""
   ]
  },
  {
   "cell_type": "code",
   "outputs": [],
   "source": [
    "import time\n",
    "import random\n",
    "import string\n",
    "\n",
    "import requests"
   ],
   "metadata": {
    "collapsed": false,
    "ExecuteTime": {
     "end_time": "2024-09-29T05:29:44.884470Z",
     "start_time": "2024-09-29T05:29:44.619839100Z"
    }
   },
   "id": "b272f97a71b25a45",
   "execution_count": 2
  },
  {
   "cell_type": "markdown",
   "source": [
    "### Functions"
   ],
   "metadata": {
    "collapsed": false
   },
   "id": "f042acdb1d80a682"
  },
  {
   "cell_type": "code",
   "outputs": [],
   "source": [
    "def get_candidate_labels(categories=CATEGORIES):\n",
    "    for category in categories:\n",
    "        yield category[\"title\"]\n",
    "        for point in category[\"points\"]:\n",
    "            yield point"
   ],
   "metadata": {
    "collapsed": false,
    "ExecuteTime": {
     "end_time": "2024-09-29T05:29:44.890628500Z",
     "start_time": "2024-09-29T05:29:44.886469800Z"
    }
   },
   "id": "91b9ec132602c58b",
   "execution_count": 3
  },
  {
   "cell_type": "code",
   "outputs": [],
   "source": [
    "def make_classify_request(call_id, labels, context=None, context_path=None):\n",
    "    data = {\"call_id\": call_id, \"candidate_labels\": labels}\n",
    "    \n",
    "    if context:\n",
    "        data[\"context\"] = context\n",
    "    elif context_path:\n",
    "        data[\"context_path\"] = context_path\n",
    "    \n",
    "    return requests.post(CATEGORIZATION_API_CLASSIFY, json=data)\n",
    "\n",
    "visa_call = lambda prefix=\"\": make_classify_request(prefix + \"visa_call\", context=VISA_AND_PASSPORT_SERVICES_DIALOGUE, labels=list(get_candidate_labels()))\n",
    "transcription_call = lambda prefix=\"\": make_classify_request(prefix + \"transcription_call\", context_path=TRANSCRIPTION_PATH, labels=list(get_candidate_labels()))"
   ],
   "metadata": {
    "collapsed": false,
    "ExecuteTime": {
     "end_time": "2024-09-29T05:58:41.238954300Z",
     "start_time": "2024-09-29T05:58:41.230938200Z"
    }
   },
   "id": "814e96ba0b0c4d2c",
   "execution_count": 20
  },
  {
   "cell_type": "code",
   "outputs": [],
   "source": [
    "def make_qa_request(call_id, question, context=None, context_path=None):\n",
    "    data = {\"call_id\": call_id, \"question\": question}\n",
    "    \n",
    "    if context:\n",
    "        data[\"context\"] = context\n",
    "    elif context_path:\n",
    "        data[\"context_path\"] = context_path\n",
    "        \n",
    "    print(data)\n",
    "    \n",
    "    return requests.post(CATEGORIZATION_API_QA, json=data)\n",
    "\n",
    "NAME_QUESTION = \"Get the name of the person who is makes the call?\"\n",
    "LOCATION_QUESTION = \"Name the location {0}?\"\n",
    "\n",
    "visa_name_qa = lambda prefix=\"\": make_qa_request(prefix + \"visa_name_qa\", NAME_QUESTION, context=VISA_AND_PASSPORT_SERVICES_DIALOGUE)\n",
    "visa_location_qa = lambda prefix=\"\": make_qa_request(prefix + \"visa_location_qa\", LOCATION_QUESTION.format(\"of the person who makes a call\"), context=VISA_AND_PASSPORT_SERVICES_DIALOGUE)\n",
    "transcription_name_qa = lambda prefix=\"\": make_qa_request(prefix + \"transcription_name_qa\", NAME_QUESTION, context_path=TRANSCRIPTION_PATH)\n",
    "transcription_location_qa = lambda prefix=\"\": make_qa_request(prefix + \"transcription_location_qa\", LOCATION_QUESTION.format(\"of the person who makes a call\"), context_path=TRANSCRIPTION_PATH)"
   ],
   "metadata": {
    "collapsed": false,
    "ExecuteTime": {
     "end_time": "2024-09-29T09:08:45.841233700Z",
     "start_time": "2024-09-29T09:08:45.820208500Z"
    }
   },
   "id": "11b526c993791e6b",
   "execution_count": 37
  },
  {
   "cell_type": "code",
   "outputs": [],
   "source": [
    "def show_execution_time(method, *args, **kwargs):\n",
    "    start = time.time()\n",
    "    result = method(*args, **kwargs)\n",
    "    print(f\"Execution time: {time.time() - start}\")\n",
    "    return result"
   ],
   "metadata": {
    "collapsed": false,
    "ExecuteTime": {
     "end_time": "2024-09-29T07:29:47.889897100Z",
     "start_time": "2024-09-29T07:29:47.885892700Z"
    }
   },
   "id": "61553ab6972f14f6",
   "execution_count": 28
  },
  {
   "cell_type": "code",
   "outputs": [],
   "source": [
    "def random_string(length=10):\n",
    "    return ''.join(random.choices(string.ascii_uppercase + string.digits, k=length))"
   ],
   "metadata": {
    "collapsed": false,
    "ExecuteTime": {
     "end_time": "2024-09-29T07:29:48.207619900Z",
     "start_time": "2024-09-29T07:29:48.204111600Z"
    }
   },
   "id": "d553f4fdb19850e4",
   "execution_count": 29
  },
  {
   "cell_type": "markdown",
   "source": [
    "### Manual Tests (Classify)"
   ],
   "metadata": {
    "collapsed": false
   },
   "id": "3cddc8c5c3c3a38e"
  },
  {
   "cell_type": "code",
   "outputs": [
    {
     "name": "stdout",
     "output_type": "stream",
     "text": [
      "Execution time: 0.00724029541015625\n",
      "200\n",
      "{'message': 'Zero Shot Classification job submitted.'}\n"
     ]
    }
   ],
   "source": [
    "request = show_execution_time(visa_call, random_string())\n",
    "print(request.status_code)\n",
    "print(request.json())"
   ],
   "metadata": {
    "collapsed": false,
    "ExecuteTime": {
     "end_time": "2024-09-29T07:29:49.016187700Z",
     "start_time": "2024-09-29T07:29:49.002907400Z"
    }
   },
   "id": "9beb9fc61c2b5491",
   "execution_count": 30
  },
  {
   "cell_type": "code",
   "outputs": [
    {
     "name": "stdout",
     "output_type": "stream",
     "text": [
      "Execution time: 0.01736307144165039\n",
      "200\n",
      "{'message': 'Classification job submitted.'}\n"
     ]
    }
   ],
   "source": [
    "request = show_execution_time(transcription_call, random_string())\n",
    "print(request.status_code)\n",
    "print(request.json())"
   ],
   "metadata": {
    "collapsed": false,
    "ExecuteTime": {
     "end_time": "2024-09-29T06:17:57.568770Z",
     "start_time": "2024-09-29T06:17:57.547891400Z"
    }
   },
   "id": "c01d8337b154d755",
   "execution_count": 23
  },
  {
   "cell_type": "code",
   "outputs": [],
   "source": [],
   "metadata": {
    "collapsed": false
   },
   "id": "9a8e72cf2d7bf1ea"
  },
  {
   "cell_type": "markdown",
   "source": [
    "### Manual Tests (QA)"
   ],
   "metadata": {
    "collapsed": false
   },
   "id": "3706aecc46047cae"
  },
  {
   "cell_type": "code",
   "outputs": [
    {
     "name": "stdout",
     "output_type": "stream",
     "text": [
      "{'call_id': 'BSW43JSIJWvisa_name_qa', 'question': 'Get the name of the person who is makes the call?', 'context': \"I'm planning to move to Canada for work and need to understand the visa application process. Can you guide me through the necessary steps?\\nCertainly! To apply for a Canadian work visa, you'll need a valid job offer from a Canadian employer, a completed application form, your current passport, proof of qualifications, and any required certificates. Additionally, you'll need to undergo a medical examination and obtain a police clearance certificate. The processing time can vary, so it's advisable to apply well in advance. You can also explore expedited processing options if available. For detailed instructions and to submit your application, please visit our official website or contact our visa support team.\"}\n",
      "Execution time: 0.005999088287353516\n",
      "422\n",
      "{'detail': [{'type': 'int_parsing', 'loc': ['body', 'call_id'], 'msg': 'Input should be a valid integer, unable to parse string as an integer', 'input': 'BSW43JSIJWvisa_name_qa'}]}\n",
      "{'call_id': 'HSRT1LXEMIvisa_location_qa', 'question': 'Name the location of the person who makes a call?', 'context': \"I'm planning to move to Canada for work and need to understand the visa application process. Can you guide me through the necessary steps?\\nCertainly! To apply for a Canadian work visa, you'll need a valid job offer from a Canadian employer, a completed application form, your current passport, proof of qualifications, and any required certificates. Additionally, you'll need to undergo a medical examination and obtain a police clearance certificate. The processing time can vary, so it's advisable to apply well in advance. You can also explore expedited processing options if available. For detailed instructions and to submit your application, please visit our official website or contact our visa support team.\"}\n",
      "Execution time: 0.006585597991943359\n",
      "422\n",
      "{'detail': [{'type': 'int_parsing', 'loc': ['body', 'call_id'], 'msg': 'Input should be a valid integer, unable to parse string as an integer', 'input': 'HSRT1LXEMIvisa_location_qa'}]}\n"
     ]
    }
   ],
   "source": [
    "request = show_execution_time(visa_name_qa, random_string())\n",
    "print(request.status_code)\n",
    "print(request.json())\n",
    "\n",
    "request = show_execution_time(visa_location_qa, random_string())\n",
    "print(request.status_code)\n",
    "print(request.json())\n"
   ],
   "metadata": {
    "collapsed": false,
    "ExecuteTime": {
     "end_time": "2024-09-29T09:08:49.081788200Z",
     "start_time": "2024-09-29T09:08:49.057485500Z"
    }
   },
   "id": "9989c35d0c86a7cc",
   "execution_count": 38
  },
  {
   "cell_type": "code",
   "outputs": [],
   "source": [],
   "metadata": {
    "collapsed": false
   },
   "id": "5f6024671fb8a669"
  }
 ],
 "metadata": {
  "kernelspec": {
   "display_name": "Python 3",
   "language": "python",
   "name": "python3"
  },
  "language_info": {
   "codemirror_mode": {
    "name": "ipython",
    "version": 2
   },
   "file_extension": ".py",
   "mimetype": "text/x-python",
   "name": "python",
   "nbconvert_exporter": "python",
   "pygments_lexer": "ipython2",
   "version": "2.7.6"
  }
 },
 "nbformat": 4,
 "nbformat_minor": 5
}
